{
 "cells": [
  {
   "cell_type": "code",
   "execution_count": 1,
   "metadata": {},
   "outputs": [],
   "source": [
    "import pandas as pd\n",
    "import os\n",
    "from pandas.io.json import json_normalize"
   ]
  },
  {
   "cell_type": "code",
   "execution_count": 2,
   "metadata": {},
   "outputs": [],
   "source": [
    "gt_directory = os.path.join('..','..','large_dataset','large_dataset.json')"
   ]
  },
  {
   "cell_type": "code",
   "execution_count": 3,
   "metadata": {},
   "outputs": [],
   "source": [
    "gt = pd.read_json(gt_directory)\n",
    "gt = gt.transpose()\n",
    "gt = gt.drop(['size'], axis=1)"
   ]
  },
  {
   "cell_type": "code",
   "execution_count": 4,
   "metadata": {},
   "outputs": [],
   "source": [
    "aux = pd.DataFrame(pd.DataFrame(gt['file_attributes'].tolist())['discrete pose'].tolist())\n",
    "aux.reset_index(drop=True, inplace=True)\n",
    "gt.reset_index(drop=True, inplace=True)\n",
    "gt = pd.concat([gt.drop(['file_attributes'],axis=1),aux],axis=1)\n",
    "gt = gt.set_index(['filename'])"
   ]
  },
  {
   "cell_type": "code",
   "execution_count": 5,
   "metadata": {},
   "outputs": [],
   "source": [
    "#gt"
   ]
  },
  {
   "cell_type": "code",
   "execution_count": 6,
   "metadata": {},
   "outputs": [],
   "source": [
    "#pd.DataFrame(gt['regions'].tolist())\n"
   ]
  },
  {
   "cell_type": "code",
   "execution_count": 7,
   "metadata": {},
   "outputs": [],
   "source": [
    "temp = pd.DataFrame(columns=['filename']+list(range(1,22)))\n",
    "for i in gt['regions'].iteritems():\n",
    "    temp_dict = dict.fromkeys(['filename'] + list(range(1,22)))\n",
    "    temp_dict['filename'] = i[0]\n",
    "    for n,j in enumerate(i[1]):\n",
    "        try:\n",
    "            a=j['region_attributes']['Visibility']['Occluded']==True\n",
    "        except:\n",
    "            a=False\n",
    "        temp_dict[int(j['region_attributes']['Keypoints'])]=(j['shape_attributes']['cx'],j['shape_attributes']['cy'],a)\n",
    "    temp=temp.append(temp_dict , ignore_index=True)"
   ]
  },
  {
   "cell_type": "code",
   "execution_count": 8,
   "metadata": {},
   "outputs": [],
   "source": [
    "temp = temp.set_index(['filename'])"
   ]
  },
  {
   "cell_type": "code",
   "execution_count": 9,
   "metadata": {},
   "outputs": [],
   "source": [
    "t = gt.drop(['regions'], axis=1)\n",
    "gt_final = pd.concat([t, temp], axis=1)"
   ]
  },
  {
   "cell_type": "code",
   "execution_count": 10,
   "metadata": {},
   "outputs": [
    {
     "data": {
      "text/plain": [
       "L arm forward                     NaN\n",
       "L arm sideways                    NaN\n",
       "L arm upwards                     NaN\n",
       "L knee up                         NaN\n",
       "R arm forward                    True\n",
       "R arm sideways                   True\n",
       "R arm up                         True\n",
       "R knee up                         NaN\n",
       "crouched                          NaN\n",
       "lean L                            NaN\n",
       "lean R                            NaN\n",
       "upright                          True\n",
       "1                 (2236, 1075, False)\n",
       "2                 (2274, 1041, False)\n",
       "3                 (2207, 1047, False)\n",
       "4                 (2339, 1051, False)\n",
       "5                  (2181, 1063, True)\n",
       "6                 (2413, 1304, False)\n",
       "7                 (2055, 1179, False)\n",
       "8                 (2408, 1610, False)\n",
       "9                 (1773, 1216, False)\n",
       "10                (2434, 1849, False)\n",
       "11                (1875, 1111, False)\n",
       "12                (2254, 1798, False)\n",
       "13                (2039, 1777, False)\n",
       "14                (2220, 2196, False)\n",
       "15                (1958, 2196, False)\n",
       "16                (2186, 2484, False)\n",
       "17                (1929, 2463, False)\n",
       "18                (2155, 1726, False)\n",
       "19                (2202, 1411, False)\n",
       "20                (2254, 1185, False)\n",
       "21                 (2248, 942, False)\n",
       "Name: M_3m_1.jpg, dtype: object"
      ]
     },
     "execution_count": 10,
     "metadata": {},
     "output_type": "execute_result"
    }
   ],
   "source": [
    "gt_final.loc['M_3m_1.jpg', :]"
   ]
  },
  {
   "cell_type": "code",
   "execution_count": null,
   "metadata": {},
   "outputs": [],
   "source": []
  }
 ],
 "metadata": {
  "kernelspec": {
   "display_name": "Python 3",
   "language": "python",
   "name": "python3"
  },
  "language_info": {
   "codemirror_mode": {
    "name": "ipython",
    "version": 3
   },
   "file_extension": ".py",
   "mimetype": "text/x-python",
   "name": "python",
   "nbconvert_exporter": "python",
   "pygments_lexer": "ipython3",
   "version": "3.7.0"
  }
 },
 "nbformat": 4,
 "nbformat_minor": 2
}
